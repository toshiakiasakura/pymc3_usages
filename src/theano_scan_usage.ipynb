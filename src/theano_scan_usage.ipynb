{
 "cells": [
  {
   "cell_type": "markdown",
   "metadata": {},
   "source": [
    "#  theano scan usage"
   ]
  },
  {
   "cell_type": "code",
   "execution_count": 1,
   "metadata": {},
   "outputs": [],
   "source": [
    "import numpy as np\n",
    "import theano\n",
    "import theano.tensor as tt"
   ]
  },
  {
   "cell_type": "markdown",
   "metadata": {},
   "source": [
    "## map a function over a list "
   ]
  },
  {
   "cell_type": "code",
   "execution_count": 2,
   "metadata": {},
   "outputs": [
    {
     "data": {
      "text/plain": [
       "array([ 1,  4,  9, 16, 25], dtype=int32)"
      ]
     },
     "execution_count": 2,
     "metadata": {},
     "output_type": "execute_result"
    }
   ],
   "source": [
    "s_x = tt.ivector()\n",
    "s_y, _ = theano.scan(\n",
    "    fn = lambda x:x*x,\n",
    "    sequences = [s_x])\n",
    "fn = theano.function([s_x], s_y)\n",
    "fn([1,2,3,4,5]) #[1,4,9,16,25]"
   ]
  },
  {
   "cell_type": "markdown",
   "metadata": {},
   "source": [
    "## zip a function over a list  "
   ]
  },
  {
   "cell_type": "code",
   "execution_count": 3,
   "metadata": {},
   "outputs": [
    {
     "data": {
      "text/plain": [
       "array([  1,   2,   9,  64, 625], dtype=int32)"
      ]
     },
     "execution_count": 3,
     "metadata": {},
     "output_type": "execute_result"
    }
   ],
   "source": [
    "s_x1 = tt.ivector()\n",
    "s_x2 = tt.ivector()\n",
    "s_y, _ = theano.scan(\n",
    "    fn = lambda x1,x2:x1**x2,\n",
    "    sequences = [s_x1, s_x2])\n",
    "fn = theano.function([s_x1,s_x2], s_y)\n",
    "fn([1,2,3,4,5],[0,1,2,3,4]) #[1,2,9,64,625]\n"
   ]
  },
  {
   "cell_type": "markdown",
   "metadata": {},
   "source": [
    "## accumulate a list  "
   ]
  },
  {
   "cell_type": "code",
   "execution_count": 4,
   "metadata": {},
   "outputs": [
    {
     "name": "stdout",
     "output_type": "stream",
     "text": [
      "1\n",
      "[ 2  4  7 11 16]\n",
      "1\n",
      "[  0  -2  -5  -9 -14]\n",
      "1\n"
     ]
    }
   ],
   "source": [
    "s_x = tt.ivector()\n",
    "v_sum = theano.shared(np.int32(1))\n",
    "s_y, update_sum = theano.scan(\n",
    "    lambda x,y:x+y,\n",
    "    sequences = [s_x],\n",
    "    outputs_info = [v_sum]) # initial value\n",
    "fn = theano.function([s_x], s_y, updates=update_sum)\n",
    "\n",
    "print( v_sum.get_value() )# 0\n",
    "print( fn([1,2,3,4,5]) ) # [1,3,6,10,15]\n",
    "print( v_sum.get_value() )# 15\n",
    "print( fn([-1,-2,-3,-4,-5]) )# [14,12,9,5,0]\n",
    "print( v_sum.get_value() ) # 0"
   ]
  },
  {
   "cell_type": "markdown",
   "metadata": {},
   "source": [
    "## orbit of logistic map "
   ]
  },
  {
   "cell_type": "code",
   "execution_count": 5,
   "metadata": {},
   "outputs": [
    {
     "name": "stdout",
     "output_type": "stream",
     "text": [
      "[0.75 0.75 0.75 0.75 0.75 0.75 0.75 0.75 0.75 0.75]\n",
      "[0.91       0.3275999  0.8811129  0.41901192 0.97376364 0.10219204\n",
      " 0.3669953  0.929239   0.2630156  0.77535355]\n"
     ]
    }
   ],
   "source": [
    "s_x = tt.fscalar()\n",
    "s_lambda = tt.fscalar()\n",
    "s_t = tt.iscalar()\n",
    "s_y, _ = theano.scan(\n",
    "    fn = lambda x,l: l*x*(1-x),\n",
    "    outputs_info = [s_x],\n",
    "    non_sequences = [s_lambda],\n",
    "    n_steps = s_t\n",
    ")\n",
    "fn = theano.function([s_x, s_lambda, s_t], s_y, allow_input_downcast=True)\n",
    "\n",
    "print( fn(.75, 4., 10) ) #a stable orbit\n",
    "\n",
    "print( fn(.65, 4., 10) ) #a chaotic orbit"
   ]
  },
  {
   "cell_type": "markdown",
   "metadata": {},
   "source": [
    "## Taps - Fibonacci "
   ]
  },
  {
   "cell_type": "code",
   "execution_count": 6,
   "metadata": {},
   "outputs": [
    {
     "ename": "AttributeError",
     "evalue": "'list' object has no attribute 'ndim'",
     "output_type": "error",
     "traceback": [
      "\u001b[0;31m---------------------------------------------------------------------------\u001b[0m",
      "\u001b[0;31mAttributeError\u001b[0m                            Traceback (most recent call last)",
      "\u001b[0;32m<ipython-input-6-e5751e3af878>\u001b[0m in \u001b[0;36m<module>\u001b[0;34m()\u001b[0m\n\u001b[1;32m      8\u001b[0m     \u001b[0mfn\u001b[0m \u001b[0;34m=\u001b[0m \u001b[0;32mlambda\u001b[0m \u001b[0mx1\u001b[0m\u001b[0;34m,\u001b[0m\u001b[0mx2\u001b[0m\u001b[0;34m:\u001b[0m \u001b[0mx1\u001b[0m\u001b[0;34m+\u001b[0m\u001b[0mx2\u001b[0m\u001b[0;34m,\u001b[0m\u001b[0;34m\u001b[0m\u001b[0;34m\u001b[0m\u001b[0m\n\u001b[1;32m      9\u001b[0m     \u001b[0moutputs_info\u001b[0m \u001b[0;34m=\u001b[0m \u001b[0;34m[\u001b[0m\u001b[0;34m{\u001b[0m\u001b[0;34m'initial'\u001b[0m\u001b[0;34m:\u001b[0m\u001b[0;34m[\u001b[0m\u001b[0ms_x0\u001b[0m\u001b[0;34m,\u001b[0m \u001b[0ms_x1\u001b[0m\u001b[0;34m]\u001b[0m\u001b[0;34m,\u001b[0m \u001b[0;34m'taps'\u001b[0m\u001b[0;34m:\u001b[0m\u001b[0;34m[\u001b[0m\u001b[0;34m-\u001b[0m\u001b[0;36m2\u001b[0m\u001b[0;34m,\u001b[0m\u001b[0;34m-\u001b[0m\u001b[0;36m1\u001b[0m\u001b[0;34m]\u001b[0m\u001b[0;34m}\u001b[0m\u001b[0;34m]\u001b[0m\u001b[0;34m,\u001b[0m\u001b[0;34m\u001b[0m\u001b[0;34m\u001b[0m\u001b[0m\n\u001b[0;32m---> 10\u001b[0;31m     \u001b[0mn_steps\u001b[0m \u001b[0;34m=\u001b[0m \u001b[0ms_n\u001b[0m\u001b[0;34m\u001b[0m\u001b[0;34m\u001b[0m\u001b[0m\n\u001b[0m\u001b[1;32m     11\u001b[0m )\n\u001b[1;32m     12\u001b[0m \u001b[0mfn_fib\u001b[0m \u001b[0;34m=\u001b[0m \u001b[0mtheano\u001b[0m\u001b[0;34m.\u001b[0m\u001b[0mfunction\u001b[0m\u001b[0;34m(\u001b[0m\u001b[0;34m[\u001b[0m\u001b[0ms_x0\u001b[0m\u001b[0;34m,\u001b[0m \u001b[0ms_x1\u001b[0m\u001b[0;34m,\u001b[0m \u001b[0ms_n\u001b[0m\u001b[0;34m]\u001b[0m\u001b[0;34m,\u001b[0m \u001b[0ms_y\u001b[0m\u001b[0;34m)\u001b[0m\u001b[0;34m\u001b[0m\u001b[0;34m\u001b[0m\u001b[0m\n",
      "\u001b[0;32m~/.pyenv/versions/anaconda3-5.3.1/lib/python3.7/site-packages/theano/scan_module/scan.py\u001b[0m in \u001b[0;36mscan\u001b[0;34m(fn, sequences, outputs_info, non_sequences, n_steps, truncate_gradient, go_backwards, mode, name, profile, allow_gc, strict, return_list)\u001b[0m\n\u001b[1;32m    684\u001b[0m             mit_sot_scan_inputs.append(\n\u001b[1;32m    685\u001b[0m                 scan_utils.expand_empty(init_out['initial'][:mintap],\n\u001b[0;32m--> 686\u001b[0;31m                                         actual_n_steps))\n\u001b[0m\u001b[1;32m    687\u001b[0m \u001b[0;34m\u001b[0m\u001b[0m\n\u001b[1;32m    688\u001b[0m             \u001b[0;32mif\u001b[0m \u001b[0mi\u001b[0m \u001b[0;32min\u001b[0m \u001b[0mreturn_steps\u001b[0m\u001b[0;34m:\u001b[0m\u001b[0;34m\u001b[0m\u001b[0;34m\u001b[0m\u001b[0m\n",
      "\u001b[0;32m~/.pyenv/versions/anaconda3-5.3.1/lib/python3.7/site-packages/theano/scan_module/scan_utils.py\u001b[0m in \u001b[0;36mexpand_empty\u001b[0;34m(tensor_var, size)\u001b[0m\n\u001b[1;32m    610\u001b[0m     \u001b[0;32mif\u001b[0m \u001b[0msize\u001b[0m \u001b[0;34m==\u001b[0m \u001b[0;36m0\u001b[0m\u001b[0;34m:\u001b[0m\u001b[0;34m\u001b[0m\u001b[0;34m\u001b[0m\u001b[0m\n\u001b[1;32m    611\u001b[0m         \u001b[0;32mreturn\u001b[0m \u001b[0mtensor_var\u001b[0m\u001b[0;34m\u001b[0m\u001b[0;34m\u001b[0m\u001b[0m\n\u001b[0;32m--> 612\u001b[0;31m     \u001b[0mshapes\u001b[0m \u001b[0;34m=\u001b[0m \u001b[0;34m[\u001b[0m\u001b[0mtensor_var\u001b[0m\u001b[0;34m.\u001b[0m\u001b[0mshape\u001b[0m\u001b[0;34m[\u001b[0m\u001b[0mx\u001b[0m\u001b[0;34m]\u001b[0m \u001b[0;32mfor\u001b[0m \u001b[0mx\u001b[0m \u001b[0;32min\u001b[0m \u001b[0mxrange\u001b[0m\u001b[0;34m(\u001b[0m\u001b[0mtensor_var\u001b[0m\u001b[0;34m.\u001b[0m\u001b[0mndim\u001b[0m\u001b[0;34m)\u001b[0m\u001b[0;34m]\u001b[0m\u001b[0;34m\u001b[0m\u001b[0;34m\u001b[0m\u001b[0m\n\u001b[0m\u001b[1;32m    613\u001b[0m     \u001b[0mnew_shape\u001b[0m \u001b[0;34m=\u001b[0m \u001b[0;34m[\u001b[0m\u001b[0msize\u001b[0m \u001b[0;34m+\u001b[0m \u001b[0mshapes\u001b[0m\u001b[0;34m[\u001b[0m\u001b[0;36m0\u001b[0m\u001b[0;34m]\u001b[0m\u001b[0;34m]\u001b[0m \u001b[0;34m+\u001b[0m \u001b[0mshapes\u001b[0m\u001b[0;34m[\u001b[0m\u001b[0;36m1\u001b[0m\u001b[0;34m:\u001b[0m\u001b[0;34m]\u001b[0m\u001b[0;34m\u001b[0m\u001b[0;34m\u001b[0m\u001b[0m\n\u001b[1;32m    614\u001b[0m     \u001b[0mempty\u001b[0m \u001b[0;34m=\u001b[0m \u001b[0mtensor\u001b[0m\u001b[0;34m.\u001b[0m\u001b[0mAllocEmpty\u001b[0m\u001b[0;34m(\u001b[0m\u001b[0mtensor_var\u001b[0m\u001b[0;34m.\u001b[0m\u001b[0mdtype\u001b[0m\u001b[0;34m)\u001b[0m\u001b[0;34m(\u001b[0m\u001b[0;34m*\u001b[0m\u001b[0mnew_shape\u001b[0m\u001b[0;34m)\u001b[0m\u001b[0;34m\u001b[0m\u001b[0;34m\u001b[0m\u001b[0m\n",
      "\u001b[0;31mAttributeError\u001b[0m: 'list' object has no attribute 'ndim'"
     ]
    }
   ],
   "source": [
    "'''\n",
    "don't know why this function is not correctly worked.\n",
    "'''\n",
    "s_x0 = tt.iscalar()\n",
    "s_x1 = tt.iscalar()\n",
    "s_n = tt.iscalar()\n",
    "s_y, _ = theano.scan(\n",
    "    fn = lambda x1,x2: x1+x2,\n",
    "    outputs_info = [{'initial':[s_x0, s_x1], 'taps':[-2,-1]}],\n",
    "    n_steps = s_n\n",
    ")\n",
    "fn_fib = theano.function([s_x0, s_x1, s_n], s_y)\n",
    "fn_fib(1,1,10)"
   ]
  },
  {
   "cell_type": "markdown",
   "metadata": {},
   "source": [
    "## scan indexing  "
   ]
  },
  {
   "cell_type": "code",
   "execution_count": 7,
   "metadata": {},
   "outputs": [
    {
     "data": {
      "text/plain": [
       "array([1.  , 1.  , 4.13])"
      ]
     },
     "execution_count": 7,
     "metadata": {},
     "output_type": "execute_result"
    }
   ],
   "source": [
    "x = tt.dvector('x')\n",
    "def step(idx, array):\n",
    "    return array[idx] + idx\n",
    "results, updates = theano.scan(fn=step,\n",
    "                               sequences=tt.arange(x.shape[0]),\n",
    "                               non_sequences=[x])\n",
    "f = theano.function([x], results)\n",
    "f([1., 0., 2.13])"
   ]
  },
  {
   "cell_type": "markdown",
   "metadata": {},
   "source": [
    "##  graph scan"
   ]
  },
  {
   "cell_type": "code",
   "execution_count": 12,
   "metadata": {},
   "outputs": [
    {
     "name": "stdout",
     "output_type": "stream",
     "text": [
      "The output file is available at ../pic/pic1.png\n",
      "The output file is available at ../pic/pic2.png\n"
     ]
    }
   ],
   "source": [
    "a = tt.vector(\"a\")\n",
    "b = a + a ** 10  \n",
    "f = theano.function([a], b)   \n",
    "f([1])\n",
    "theano.printing.pydotprint(b, outfile=\"../pic/pic1.png\", var_with_name_simple=True)  \n",
    "theano.printing.pydotprint(f, outfile=\"../pic/pic2.png\", var_with_name_simple=True)"
   ]
  },
  {
   "cell_type": "code",
   "execution_count": 27,
   "metadata": {},
   "outputs": [
    {
     "name": "stdout",
     "output_type": "stream",
     "text": [
      "The output file is available at ../pic/scan1.png\n",
      "The output file is available at ../pic/scan2.png\n"
     ]
    }
   ],
   "source": [
    "a = tt.vector(\"a\")\n",
    "b = a\n",
    "for i in range(10):\n",
    "    b = b + a \n",
    "f = theano.function([a],b)\n",
    "theano.printing.pydotprint(b, outfile=\"../pic/scan1.png\", var_with_name_simple=True)  \n",
    "theano.printing.pydotprint(f, outfile=\"../pic/scan2.png\", var_with_name_simple=True)"
   ]
  },
  {
   "cell_type": "code",
   "execution_count": 28,
   "metadata": {},
   "outputs": [
    {
     "name": "stdout",
     "output_type": "stream",
     "text": [
      "The output file is available at ../pic/scan3.png\n",
      "The output file is available at ../pic/scan4.png\n"
     ]
    }
   ],
   "source": [
    "a = tt.vector(\"a\")\n",
    "b = tt.vector(\"b\")\n",
    "s_y, _ = theano.scan(\n",
    "    fn = lambda x,y: x+y,\n",
    "    outputs_info = [a],\n",
    "    non_sequences = [a],\n",
    "    n_steps = 10\n",
    ")\n",
    "res = s_y[-1]\n",
    "fn = theano.function([a], res, allow_input_downcast=True)\n",
    "fn([3])\n",
    "theano.printing.pydotprint(res, outfile=\"../pic/scan3.png\", var_with_name_simple=True)  \n",
    "theano.printing.pydotprint(fn, outfile=\"../pic/scan4.png\", var_with_name_simple=True)\n"
   ]
  },
  {
   "cell_type": "markdown",
   "metadata": {},
   "source": [
    "# make theano function and get gradient\n",
    "- https://groups.google.com/forum/#!topic/theano-users/Z-vXqB-2SL8"
   ]
  },
  {
   "cell_type": "code",
   "execution_count": null,
   "metadata": {},
   "outputs": [],
   "source": [
    "'''\n",
    "can calculate function value, but can not use for autograd \n",
    "'''\n",
    "def func(x1,x2):\n",
    "    a = tt.exp(2*x1+2*x2)\n",
    "    return(a)\n",
    "\n",
    "x1 = tt.dscalar()\n",
    "x2 = tt.dscalar()\n",
    "y_ = func(x1,x2)\n",
    "fn = theano.function([x1,x2],y_)\n",
    "fn(1,-1)"
   ]
  },
  {
   "cell_type": "code",
   "execution_count": null,
   "metadata": {},
   "outputs": [],
   "source": [
    "import autograd.numpy as np \n",
    "from autograd import grad"
   ]
  },
  {
   "cell_type": "code",
   "execution_count": null,
   "metadata": {},
   "outputs": [],
   "source": [
    "def func(x1,x2):\n",
    "    a = np.exp(2*x1+2*x2)\n",
    "    return(a)\n",
    "\n",
    "x1 = tt.dscalar()\n",
    "x2 = tt.dscalar()\n",
    "y_ = func(x1,x2)\n",
    "fn = theano.function([x1,x2],y_)\n",
    "fn(1,-1)"
   ]
  },
  {
   "cell_type": "code",
   "execution_count": null,
   "metadata": {},
   "outputs": [],
   "source": [
    "gradFunc = grad(func)\n",
    "x1 = np.float64(1)\n",
    "x2 = np.float64(-1)\n",
    "gradFunc(x1,x2)"
   ]
  },
  {
   "cell_type": "markdown",
   "metadata": {},
   "source": [
    "## pymc3 custom function, check np or tt "
   ]
  },
  {
   "cell_type": "code",
   "execution_count": null,
   "metadata": {},
   "outputs": [],
   "source": [
    "import pymc3 as pm\n",
    "import autograd.numpy as np \n",
    "from autograd import grad\n",
    "import statsmodels.api as sm"
   ]
  },
  {
   "cell_type": "code",
   "execution_count": 11,
   "metadata": {
    "code_folding": []
   },
   "outputs": [],
   "source": [
    "'''\n",
    "if np is used , TypeError: sum() got an unexpected keyword argument 'out'\n",
    "are returned. Please be sure to use tt, and check function is \n",
    "correctly set by overlapping common function\n",
    "'''\n",
    "EPS = np.finfo(float).eps\n",
    "def logiFunc(x):\n",
    "    v = 1./(1. + np.exp(-x) )\n",
    "    v = np.clip(v,EPS,1-EPS)\n",
    "    return(v)\n",
    " \n",
    "def pred(X,w):\n",
    "    linear = np.sum(w*X,axis=1)\n",
    "    y =  logiFunc(linear)  \n",
    "    return(y)\n",
    "\n",
    "def logLikelihood(t,X,w):\n",
    "    y = pred(X,w) \n",
    "    ll = t * np.log(y) + (1-t)*np.log(1-y) \n",
    "    ll = np.sum(ll)\n",
    "    return(ll)\n",
    "\n"
   ]
  },
  {
   "cell_type": "code",
   "execution_count": 12,
   "metadata": {},
   "outputs": [
    {
     "ename": "NameError",
     "evalue": "name 'sm' is not defined",
     "output_type": "error",
     "traceback": [
      "\u001b[0;31m---------------------------------------------------------------------------\u001b[0m",
      "\u001b[0;31mNameError\u001b[0m                                 Traceback (most recent call last)",
      "\u001b[0;32m<ipython-input-12-af4ee8208934>\u001b[0m in \u001b[0;36m<module>\u001b[0;34m()\u001b[0m\n\u001b[1;32m      1\u001b[0m \u001b[0;31m# data preparation\u001b[0m\u001b[0;34m\u001b[0m\u001b[0;34m\u001b[0m\u001b[0;34m\u001b[0m\u001b[0m\n\u001b[0;32m----> 2\u001b[0;31m \u001b[0mdf\u001b[0m \u001b[0;34m=\u001b[0m \u001b[0msm\u001b[0m\u001b[0;34m.\u001b[0m\u001b[0mdatasets\u001b[0m\u001b[0;34m.\u001b[0m\u001b[0manes96\u001b[0m\u001b[0;34m.\u001b[0m\u001b[0mload_pandas\u001b[0m\u001b[0;34m(\u001b[0m\u001b[0;34m)\u001b[0m\u001b[0;34m.\u001b[0m\u001b[0mdata\u001b[0m\u001b[0;34m\u001b[0m\u001b[0;34m\u001b[0m\u001b[0m\n\u001b[0m\u001b[1;32m      3\u001b[0m \u001b[0mexog\u001b[0m \u001b[0;34m=\u001b[0m \u001b[0;34m[\u001b[0m\u001b[0;34m\"TVnews\"\u001b[0m\u001b[0;34m,\u001b[0m\u001b[0;34m\"selfLR\"\u001b[0m\u001b[0;34m,\u001b[0m\u001b[0;34m\"PID\"\u001b[0m\u001b[0;34m,\u001b[0m\u001b[0;34m\"educ\"\u001b[0m\u001b[0;34m]\u001b[0m\u001b[0;34m\u001b[0m\u001b[0;34m\u001b[0m\u001b[0m\n\u001b[1;32m      4\u001b[0m \u001b[0mendog\u001b[0m \u001b[0;34m=\u001b[0m \u001b[0;34m\"vote\"\u001b[0m\u001b[0;34m\u001b[0m\u001b[0;34m\u001b[0m\u001b[0m\n\u001b[1;32m      5\u001b[0m \u001b[0;34m\u001b[0m\u001b[0m\n",
      "\u001b[0;31mNameError\u001b[0m: name 'sm' is not defined"
     ]
    }
   ],
   "source": [
    "# data preparation \n",
    "df = sm.datasets.anes96.load_pandas().data\n",
    "exog = [\"TVnews\",\"selfLR\",\"PID\",\"educ\"]\n",
    "endog = \"vote\"\n",
    "\n",
    "# set data \n",
    "m = len(exog)\n",
    "x = df[exog].values\n",
    "y = df[endog].values\n",
    "x_shared = theano.shared(x)\n",
    "# sampling parameters \n",
    "\n",
    "nIter = 500\n",
    "with pm.Model() as model2:\n",
    "    coeff = pm.Normal('beta', mu=0, sigma=100,shape=m)\n",
    "    pm.DensityDist('likelihood',logLikelihood , observed=dict(t=y,X=x,w=coeff))\n",
    "\n",
    "    # fit the model\n",
    "    trace2 = pm.sample(draws=nIter)"
   ]
  }
 ],
 "metadata": {
  "kernelspec": {
   "display_name": "Python 3",
   "language": "python",
   "name": "python3"
  },
  "language_info": {
   "codemirror_mode": {
    "name": "ipython",
    "version": 3
   },
   "file_extension": ".py",
   "mimetype": "text/x-python",
   "name": "python",
   "nbconvert_exporter": "python",
   "pygments_lexer": "ipython3",
   "version": "3.7.2"
  },
  "varInspector": {
   "cols": {
    "lenName": 16,
    "lenType": 16,
    "lenVar": 40
   },
   "kernels_config": {
    "python": {
     "delete_cmd_postfix": "",
     "delete_cmd_prefix": "del ",
     "library": "var_list.py",
     "varRefreshCmd": "print(var_dic_list())"
    },
    "r": {
     "delete_cmd_postfix": ") ",
     "delete_cmd_prefix": "rm(",
     "library": "var_list.r",
     "varRefreshCmd": "cat(var_dic_list()) "
    }
   },
   "types_to_exclude": [
    "module",
    "function",
    "builtin_function_or_method",
    "instance",
    "_Feature"
   ],
   "window_display": false
  }
 },
 "nbformat": 4,
 "nbformat_minor": 2
}
