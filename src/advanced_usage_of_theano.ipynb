{
 "cells": [
  {
   "cell_type": "markdown",
   "metadata": {},
   "source": [
    "#  advanced usage of theano\n",
    "- https://docs.pymc.io/Advanced_usage_of_Theano_in_PyMC3.html"
   ]
  },
  {
   "cell_type": "code",
   "execution_count": 1,
   "metadata": {},
   "outputs": [],
   "source": [
    "import pandas as pd\n",
    "import numpy as np\n",
    "import matplotlib.pyplot as plt\n",
    "%matplotlib inline\n",
    "import seaborn as sns\n",
    "sns.set(context=\"paper\" , style =\"whitegrid\",rc={\"figure.facecolor\":\"white\"})\n",
    "\n",
    "import pymc3 as pm\n",
    "import theano\n",
    "import theano.tensor as tt"
   ]
  },
  {
   "cell_type": "code",
   "execution_count": 2,
   "metadata": {},
   "outputs": [],
   "source": [
    "a = tt.scalar('a')\n",
    "# Create a new shared variable with initial value of 0.1\n",
    "b = theano.shared(0.1)\n",
    "func = theano.function([a], a * b)\n",
    "assert func(2.) == 0.2\n",
    "\n",
    "b.set_value(10.)\n",
    "assert func(2.) == 20."
   ]
  },
  {
   "cell_type": "code",
   "execution_count": 3,
   "metadata": {},
   "outputs": [
    {
     "name": "stderr",
     "output_type": "stream",
     "text": [
      "Auto-assigning NUTS sampler...\n",
      "Initializing NUTS using jitter+adapt_diag...\n",
      "Multiprocess sampling (2 chains in 2 jobs)\n",
      "NUTS: [mu]\n",
      "Sampling 2 chains, 0 divergences: 100%|██████████| 2000/2000 [00:01<00:00, 1120.73draws/s]\n",
      "Auto-assigning NUTS sampler...\n",
      "Initializing NUTS using jitter+adapt_diag...\n",
      "Multiprocess sampling (2 chains in 2 jobs)\n",
      "NUTS: [mu]\n",
      "Sampling 2 chains, 0 divergences: 100%|██████████| 2000/2000 [00:02<00:00, 818.81draws/s] \n",
      "Auto-assigning NUTS sampler...\n",
      "Initializing NUTS using jitter+adapt_diag...\n",
      "Multiprocess sampling (2 chains in 2 jobs)\n",
      "NUTS: [mu]\n",
      "Sampling 2 chains, 0 divergences: 100%|██████████| 2000/2000 [00:01<00:00, 1074.62draws/s]\n",
      "Auto-assigning NUTS sampler...\n",
      "Initializing NUTS using jitter+adapt_diag...\n",
      "Multiprocess sampling (2 chains in 2 jobs)\n",
      "NUTS: [mu]\n",
      "Sampling 2 chains, 0 divergences: 100%|██████████| 2000/2000 [00:02<00:00, 1227.44draws/s]\n",
      "Auto-assigning NUTS sampler...\n",
      "Initializing NUTS using jitter+adapt_diag...\n",
      "Multiprocess sampling (2 chains in 2 jobs)\n",
      "NUTS: [mu]\n",
      "Sampling 2 chains, 0 divergences: 100%|██████████| 2000/2000 [00:01<00:00, 1530.42draws/s]\n",
      "The acceptance probability does not match the target. It is 0.8809660294985889, but should be close to 0.8. Try to increase the number of tuning steps.\n",
      "Auto-assigning NUTS sampler...\n",
      "Initializing NUTS using jitter+adapt_diag...\n",
      "Multiprocess sampling (2 chains in 2 jobs)\n",
      "NUTS: [mu]\n",
      "Sampling 2 chains, 0 divergences: 100%|██████████| 2000/2000 [00:01<00:00, 1119.50draws/s]\n",
      "Auto-assigning NUTS sampler...\n",
      "Initializing NUTS using jitter+adapt_diag...\n",
      "Multiprocess sampling (2 chains in 2 jobs)\n",
      "NUTS: [mu]\n",
      "Sampling 2 chains, 0 divergences: 100%|██████████| 2000/2000 [00:01<00:00, 1116.69draws/s]\n",
      "The acceptance probability does not match the target. It is 0.8807142126695635, but should be close to 0.8. Try to increase the number of tuning steps.\n",
      "Auto-assigning NUTS sampler...\n",
      "Initializing NUTS using jitter+adapt_diag...\n",
      "Multiprocess sampling (2 chains in 2 jobs)\n",
      "NUTS: [mu]\n",
      "Sampling 2 chains, 0 divergences: 100%|██████████| 2000/2000 [00:01<00:00, 1787.63draws/s]\n",
      "The acceptance probability does not match the target. It is 0.8807660571675114, but should be close to 0.8. Try to increase the number of tuning steps.\n",
      "Auto-assigning NUTS sampler...\n",
      "Initializing NUTS using jitter+adapt_diag...\n",
      "Multiprocess sampling (2 chains in 2 jobs)\n",
      "NUTS: [mu]\n",
      "Sampling 2 chains, 0 divergences: 100%|██████████| 2000/2000 [00:01<00:00, 1084.59draws/s]\n",
      "Auto-assigning NUTS sampler...\n",
      "Initializing NUTS using jitter+adapt_diag...\n",
      "Multiprocess sampling (2 chains in 2 jobs)\n",
      "NUTS: [mu]\n",
      "Sampling 2 chains, 0 divergences: 100%|██████████| 2000/2000 [00:01<00:00, 1671.51draws/s]\n"
     ]
    }
   ],
   "source": [
    "# We generate 10 datasets\n",
    "true_mu = [np.random.randn() for _ in range(10)]\n",
    "observed_data = [mu + np.random.randn(20) for mu in true_mu]\n",
    "\n",
    "data = theano.shared(observed_data[0])\n",
    "with pm.Model() as model:\n",
    "    mu = pm.Normal('mu', 0, 10)\n",
    "    pm.Normal('y', mu=mu, sigma=1, observed=data)\n",
    "\n",
    "# Generate one trace for each dataset\n",
    "traces = []\n",
    "for data_vals in observed_data:\n",
    "    # Switch out the observed dataset\n",
    "    data.set_value(data_vals)\n",
    "    with model:\n",
    "        traces.append(pm.sample())"
   ]
  },
  {
   "cell_type": "code",
   "execution_count": 5,
   "metadata": {},
   "outputs": [
    {
     "name": "stderr",
     "output_type": "stream",
     "text": [
      "Auto-assigning NUTS sampler...\n",
      "Initializing NUTS using jitter+adapt_diag...\n",
      "Multiprocess sampling (2 chains in 2 jobs)\n",
      "NUTS: [x]\n",
      "Sampling 2 chains, 0 divergences: 100%|██████████| 2000/2000 [00:01<00:00, 1506.40draws/s]\n",
      "The acceptance probability does not match the target. It is 0.8822158458484252, but should be close to 0.8. Try to increase the number of tuning steps.\n",
      "/Users/Toshiaki/.pyenv/versions/anaconda3-5.3.1/lib/python3.7/site-packages/pymc3/sampling.py:1247: UserWarning: samples parameter is smaller than nchains times ndraws, some draws and/or chains may not be represented in the returned posterior predictive sample\n",
      "  \"samples parameter is smaller than nchains times ndraws, some draws \"\n",
      "100%|██████████| 500/500 [00:02<00:00, 244.71it/s]\n"
     ]
    }
   ],
   "source": [
    "x = np.random.randn(100)\n",
    "y = x > 0\n",
    "\n",
    "x_shared = theano.shared(x)\n",
    "\n",
    "with pm.Model() as model:\n",
    "  coeff = pm.Normal('x', mu=0, sigma=1)\n",
    "  logistic = pm.math.sigmoid(coeff * x_shared)\n",
    "  pm.Bernoulli('obs', p=logistic, observed=y)\n",
    "\n",
    "  # fit the model\n",
    "  trace = pm.sample()\n",
    "\n",
    "  # Switch out the observations and use `sample_posterior_predictive` to predict\n",
    "  x_shared.set_value([-1, 0, 1.])\n",
    "  post_pred = pm.sample_posterior_predictive(trace, samples=500)"
   ]
  },
  {
   "cell_type": "markdown",
   "metadata": {},
   "source": [
    "#  custom function"
   ]
  },
  {
   "cell_type": "code",
   "execution_count": 12,
   "metadata": {},
   "outputs": [],
   "source": [
    "from scipy import optimize, special\n",
    "import numpy as np\n",
    "import sympy\n",
    "import pymc3 as pm\n",
    "\n",
    "import theano\n",
    "import theano.tensor as tt\n",
    "import theano.tests.unittest_tools\n"
   ]
  },
  {
   "cell_type": "code",
   "execution_count": 9,
   "metadata": {},
   "outputs": [
    {
     "data": {
      "text/plain": [
       "-mu(theta)**2*exp(theta*mu(theta))/(theta*mu(theta)*exp(theta*mu(theta)) + exp(theta*mu(theta)) + 1)"
      ]
     },
     "execution_count": 9,
     "metadata": {},
     "output_type": "execute_result"
    }
   ],
   "source": [
    "mu = sympy.Function('mu')\n",
    "theta = sympy.Symbol('theta')\n",
    "R = mu(theta) + mu(theta) * sympy.exp(theta * mu(theta)) - 1\n",
    "solution = sympy.solve(R.diff(theta), mu(theta).diff(theta))[0]\n",
    "solution"
   ]
  },
  {
   "cell_type": "code",
   "execution_count": 7,
   "metadata": {},
   "outputs": [],
   "source": [
    "def func(mu, theta):\n",
    "    thetamu = theta * mu\n",
    "    value = np.log(mu) + np.logaddexp(0, thetamu)\n",
    "    return value\n",
    "\n",
    "def jac(mu, theta):\n",
    "    thetamu = theta * mu\n",
    "    jac = theta * special.expit(thetamu) + 1 / mu\n",
    "    return jac\n",
    "\n",
    "def mu_from_theta(theta):\n",
    "    return optimize.newton(func, 1, fprime=jac, args=(0.4,))"
   ]
  },
  {
   "cell_type": "code",
   "execution_count": 13,
   "metadata": {},
   "outputs": [],
   "source": [
    "class MuFromTheta(tt.Op):\n",
    "    itypes = [tt.dscalar]\n",
    "    otypes = [tt.dscalar]\n",
    "\n",
    "    def perform(self, node, inputs, outputs):\n",
    "        theta, = inputs\n",
    "        mu = mu_from_theta(theta)\n",
    "        outputs[0][0] = np.array(mu)\n",
    "\n",
    "    def grad(self, inputs, g):\n",
    "        theta, = inputs\n",
    "        mu = self(theta)\n",
    "        thetamu = theta * mu\n",
    "        return [- g[0] * mu ** 2 / (1 + thetamu + tt.exp(-thetamu))]"
   ]
  },
  {
   "cell_type": "code",
   "execution_count": 14,
   "metadata": {},
   "outputs": [
    {
     "name": "stderr",
     "output_type": "stream",
     "text": [
      "Auto-assigning NUTS sampler...\n",
      "Initializing NUTS using jitter+adapt_diag...\n",
      "Multiprocess sampling (2 chains in 2 jobs)\n",
      "NUTS: [theta]\n",
      "Sampling 2 chains, 0 divergences: 100%|██████████| 2000/2000 [01:56<00:00,  6.56draws/s]\n",
      "The chain reached the maximum tree depth. Increase max_treedepth, increase target_accept or reparameterize.\n",
      "The rhat statistic is larger than 1.05 for some parameters. This indicates slight problems during sampling.\n",
      "The estimated number of effective samples is smaller than 200 for some parameters.\n"
     ]
    }
   ],
   "source": [
    "\n",
    "tt_mu_from_theta = MuFromTheta()\n",
    "\n",
    "with pm.Model() as model:\n",
    "    theta = pm.HalfNormal('theta', sigma=1)\n",
    "    mu = pm.Deterministic('mu', tt_mu_from_theta(theta))\n",
    "    pm.Normal('y', mu=mu, sigma=0.1, observed=[0.2, 0.21, 0.3])\n",
    "\n",
    "    trace = pm.sample()"
   ]
  },
  {
   "cell_type": "code",
   "execution_count": null,
   "metadata": {},
   "outputs": [],
   "source": []
  }
 ],
 "metadata": {
  "kernelspec": {
   "display_name": "Python 3",
   "language": "python",
   "name": "python3"
  },
  "language_info": {
   "codemirror_mode": {
    "name": "ipython",
    "version": 3
   },
   "file_extension": ".py",
   "mimetype": "text/x-python",
   "name": "python",
   "nbconvert_exporter": "python",
   "pygments_lexer": "ipython3",
   "version": "3.7.2"
  },
  "varInspector": {
   "cols": {
    "lenName": 16,
    "lenType": 16,
    "lenVar": 40
   },
   "kernels_config": {
    "python": {
     "delete_cmd_postfix": "",
     "delete_cmd_prefix": "del ",
     "library": "var_list.py",
     "varRefreshCmd": "print(var_dic_list())"
    },
    "r": {
     "delete_cmd_postfix": ") ",
     "delete_cmd_prefix": "rm(",
     "library": "var_list.r",
     "varRefreshCmd": "cat(var_dic_list()) "
    }
   },
   "types_to_exclude": [
    "module",
    "function",
    "builtin_function_or_method",
    "instance",
    "_Feature"
   ],
   "window_display": false
  }
 },
 "nbformat": 4,
 "nbformat_minor": 2
}
